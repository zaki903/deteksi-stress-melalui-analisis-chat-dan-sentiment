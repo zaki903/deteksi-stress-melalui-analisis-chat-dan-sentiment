{
  "nbformat": 4,
  "nbformat_minor": 0,
  "metadata": {
    "colab": {
      "provenance": []
    },
    "kernelspec": {
      "name": "python3",
      "display_name": "Python 3"
    },
    "language_info": {
      "name": "python"
    }
  },
  "cells": [
    {
      "cell_type": "code",
      "execution_count": 9,
      "metadata": {
        "id": "x_J8dQ3jNIyP"
      },
      "outputs": [],
      "source": [
        "# Inisialisasi\n",
        "import pickle\n",
        "import numpy as np\n",
        "from tensorflow.keras.models import load_model\n",
        "from tensorflow.keras.preprocessing.sequence import pad_sequences\n",
        "from preprocessing import preprocess_text"
      ]
    },
    {
      "cell_type": "code",
      "source": [
        "# Load Model & Tokenizer\n",
        "model = load_model('model_lstm_stress.h5')\n",
        "with open('tokenizer_stress.pkl', 'rb') as f:\n",
        "    tokenizer = pickle.load(f)"
      ],
      "metadata": {
        "colab": {
          "base_uri": "https://localhost:8080/"
        },
        "id": "nh5eL2c5NQN5",
        "outputId": "7b7a4141-6936-44b7-d080-80932044ac2f"
      },
      "execution_count": 11,
      "outputs": [
        {
          "output_type": "stream",
          "name": "stderr",
          "text": [
            "WARNING:absl:Compiled the loaded model, but the compiled metrics have yet to be built. `model.compile_metrics` will be empty until you train or evaluate the model.\n"
          ]
        }
      ]
    },
    {
      "cell_type": "code",
      "source": [
        "# parameter\n",
        "max_len = 100"
      ],
      "metadata": {
        "id": "p_Q3y7YzNT8E"
      },
      "execution_count": 12,
      "outputs": []
    },
    {
      "cell_type": "code",
      "source": [
        "# Fungsi Prediksi\n",
        "def predict_stress(text):\n",
        "    cleaned_text = preprocess_text(text)\n",
        "    sequence = tokenizer.texts_to_sequences([cleaned_text])\n",
        "    padded = pad_sequences(sequence, maxlen=max_len)\n",
        "    prob = float(model.predict(padded)[0][0])\n",
        "    prediction = \"Negative\" if prob < 0.5 else \"Positive\"\n",
        "    stress_percent = float(round((1 - prob) * 100, 2))\n",
        "    return {\n",
        "        \"prediction\": prediction,\n",
        "        \"stress_percent\": stress_percent\n",
        "    }"
      ],
      "metadata": {
        "id": "qkR1B7XnNr6I"
      },
      "execution_count": 16,
      "outputs": []
    },
    {
      "cell_type": "code",
      "source": [
        "# Penggunaan Negatif (Stress)\n",
        "text_input = \"Aku lagi stres hari ini\"\n",
        "result = predict_stress(text_input)\n",
        "print(result)"
      ],
      "metadata": {
        "colab": {
          "base_uri": "https://localhost:8080/"
        },
        "id": "TCCKdAKqVdf4",
        "outputId": "34624823-1be1-4524-acea-47aee5343aae"
      },
      "execution_count": 23,
      "outputs": [
        {
          "output_type": "stream",
          "name": "stdout",
          "text": [
            "\u001b[1m1/1\u001b[0m \u001b[32m━━━━━━━━━━━━━━━━━━━━\u001b[0m\u001b[37m\u001b[0m \u001b[1m0s\u001b[0m 41ms/step\n",
            "{'prediction': 'Negative', 'stress_percent': 94.47}\n"
          ]
        }
      ]
    },
    {
      "cell_type": "code",
      "source": [
        "# Penggunaan Positive (Tidak Stres)\n",
        "text_input = \"Aku lagi bahagia hari ini\"\n",
        "result = predict_stress(text_input)\n",
        "print(result)"
      ],
      "metadata": {
        "colab": {
          "base_uri": "https://localhost:8080/"
        },
        "id": "cLz5Yoi6tULW",
        "outputId": "310a4117-d3ae-4ba3-b02c-bc55d0333a71"
      },
      "execution_count": 24,
      "outputs": [
        {
          "output_type": "stream",
          "name": "stdout",
          "text": [
            "\u001b[1m1/1\u001b[0m \u001b[32m━━━━━━━━━━━━━━━━━━━━\u001b[0m\u001b[37m\u001b[0m \u001b[1m0s\u001b[0m 41ms/step\n",
            "{'prediction': 'Positive', 'stress_percent': 1.21}\n"
          ]
        }
      ]
    }
  ]
}